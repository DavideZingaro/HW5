{
 "cells": [
  {
   "cell_type": "code",
   "execution_count": null,
   "metadata": {},
   "outputs": [],
   "source": [
    "def f3(graph, startnode, endnode):\n",
    "    # Shortest paths from startnode\n",
    "    shortest_paths = {startnode: (None, 0)}\n",
    "    # Initial node\n",
    "    current_node = startnode\n",
    "    # Set of visited nodes, which we can forget of during our search\n",
    "    visited_nodes = set()\n",
    "    \n",
    "    while current_node != endnode:\n",
    "        # Adding visited nodes\n",
    "        visited_nodes.add(current_node)\n",
    "        # All adjacent nodes from our current node\n",
    "        destinations = list(graph[current_node])\n",
    "        # Uploading the path weight to current node in shortest_paths\n",
    "        weight_to_current_node = shortest_paths[current_node][1]\n",
    "\n",
    "        for next_node in destinations:\n",
    "            # Adding the edges weight to the path to our current node\n",
    "            weight = graph[current_node][next_node]['weight'] + weight_to_current_node\n",
    "            if next_node not in shortest_paths:\n",
    "                # Uploading shortest_path with new node and relative distance from current node\n",
    "                shortest_paths[next_node] = (current_node, weight)\n",
    "            else:\n",
    "                current_shortest_weight = shortest_paths[next_node][1]\n",
    "                if current_shortest_weight > weight:\n",
    "                    # Uploading weight to start node with the lowest weight possible\n",
    "                    shortest_paths[next_node] = (current_node, weight)\n",
    "        # Choosing the new node\n",
    "        next_destinations = {node: shortest_paths[node] for node in shortest_paths if node not in visited_nodes}\n",
    "        if not next_destinations:\n",
    "            # If node is unreachable\n",
    "            return print(\"Cannot reach {} from {} as starting node\".format(endnode, startnode))\n",
    "        # Choosing next node by lowest weight\n",
    "        current_node = min(next_destinations, key=lambda k: next_destinations[k][1])\n",
    "    \n",
    "    # Creating the path\n",
    "    path = []\n",
    "    while current_node is not None:\n",
    "        path.append(current_node)\n",
    "        next_node = shortest_paths[current_node][0]\n",
    "        current_node = next_node\n",
    "    # Reverse path\n",
    "    path = path[::-1]\n",
    "    return path"
   ]
  },
  {
   "cell_type": "code",
   "execution_count": null,
   "metadata": {},
   "outputs": [],
   "source": [
    "p = ['322', '1440']\n",
    "a = []\n",
    "h = '1'\n",
    "for i in range(len(p)):\n",
    "    a.extend(f3(C, h, p[i])) \n",
    "    h = p[i]\n",
    "result = sorted(set(a), key=a.index)\n",
    "result"
   ]
  }
 ],
 "metadata": {
  "kernelspec": {
   "display_name": "Python 3",
   "language": "python",
   "name": "python3"
  },
  "language_info": {
   "codemirror_mode": {
    "name": "ipython",
    "version": 3
   },
   "file_extension": ".py",
   "mimetype": "text/x-python",
   "name": "python",
   "nbconvert_exporter": "python",
   "pygments_lexer": "ipython3",
   "version": "3.7.1"
  }
 },
 "nbformat": 4,
 "nbformat_minor": 2
}
